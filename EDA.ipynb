{
 "cells": [
  {
   "cell_type": "markdown",
   "metadata": {},
   "source": [
    "- Inspirações:\n",
    "    - https://www.kaggle.com/anokas/exploratory-data-analysis\n",
    "    - https://www.kaggle.com/vykhand/exploring-products\n",
    "    - https://www.kaggle.com/fabienvs/grupo-bimbo-data-analysis (completa com todas combinações de colunas possíveis)\n",
    "\n"
   ]
  },
  {
   "cell_type": "code",
   "execution_count": 1,
   "metadata": {},
   "outputs": [],
   "source": [
    "import pandas as pd\n",
    "import numpy as np\n",
    "import matplotlib.pyplot as plt\n",
    "import seaborn as sns"
   ]
  },
  {
   "cell_type": "code",
   "execution_count": 2,
   "metadata": {},
   "outputs": [
    {
     "data": {
      "text/plain": [
       "<Figure size 1080x360 with 0 Axes>"
      ]
     },
     "metadata": {},
     "output_type": "display_data"
    }
   ],
   "source": [
    "sns.set(rc={'figure.figsize':(15,5)})\n",
    "\n",
    "plt.figure(figsize=(15,5))\n",
    "plt.style.use('seaborn')"
   ]
  },
  {
   "cell_type": "markdown",
   "metadata": {},
   "source": [
    "**Verificando max e min**\n",
    "\n",
    "- Verificação servirá como base para conversão de tipos."
   ]
  },
  {
   "cell_type": "code",
   "execution_count": 5,
   "metadata": {},
   "outputs": [],
   "source": [
    "# for col in df.columns:\n",
    "#     print('Coluna:{0} --- Min:{1} --- Max:{2} --- Count:{3} --- Type: {4}'\n",
    "#           .format(col, df[col].min(), df[col].max(), len(df[col].unique()), type(df[col][0])))\n",
    "# print('')\n",
    "# print(df.info())"
   ]
  },
  {
   "cell_type": "code",
   "execution_count": 4,
   "metadata": {},
   "outputs": [],
   "source": [
    "# Coluna:Semana --- Min:3 --- Max:3 --- Count:1 --- Type: <class 'numpy.uint8'>\n",
    "# Coluna:Agencia_ID --- Min:1110 --- Max:25759 --- Count:551 --- Type: <class 'numpy.uint16'>\n",
    "# Coluna:Canal_ID --- Min:1 --- Max:11 --- Count:9 --- Type: <class 'numpy.uint8'>\n",
    "# Coluna:Ruta_SAK --- Min:1 --- Max:9975 --- Count:2816 --- Type: <class 'numpy.uint16'>\n",
    "# Coluna:Cliente_ID --- Min:26 --- Max:2015152015 --- Count:752803 --- Type: <class 'numpy.uint32'>\n",
    "# Coluna:Producto_ID --- Min:41 --- Max:49997 --- Count:1569 --- Type: <class 'numpy.uint16'>\n",
    "# Coluna:Venta_uni_hoy --- Min:0 --- Max:5000 --- Count:1225 --- Type: <class 'numpy.uint32'>\n",
    "# Coluna:Venta_hoy --- Min:0.0 --- Max:382694.40625 --- Count:37737 --- Type: <class 'numpy.float32'>\n",
    "# Coluna:Dev_uni_proxima --- Min:0 --- Max:16345 --- Count:286 --- Type: <class 'numpy.uint16'>\n",
    "# Coluna:Dev_proxima --- Min:0.0 --- Max:130760.0 --- Count:6818 --- Type: <class 'numpy.float32'>\n",
    "# Coluna:Demanda_uni_equil --- Min:0 --- Max:5000 --- Count:1216 --- Type: <class 'numpy.uint16'>\n",
    "# \n",
    "# <class 'pandas.core.frame.DataFrame'>\n",
    "# RangeIndex: 11165207 entries, 0 to 11165206\n",
    "# Data columns (total 11 columns):\n",
    "# Semana               uint8\n",
    "# Agencia_ID           uint16\n",
    "# Canal_ID             uint8\n",
    "# Ruta_SAK             uint16\n",
    "# Cliente_ID           uint32\n",
    "# Producto_ID          uint16\n",
    "# Venta_uni_hoy        uint32\n",
    "# Venta_hoy            float32\n",
    "# Dev_uni_proxima      uint16\n",
    "# Dev_proxima          float32\n",
    "# Demanda_uni_equil    uint16\n",
    "# dtypes: float32(2), uint16(5), uint32(2), uint8(2)\n",
    "# memory usage: 298.1 MB\n",
    "# None"
   ]
  },
  {
   "cell_type": "code",
   "execution_count": 3,
   "metadata": {},
   "outputs": [],
   "source": [
    "dtype = {'Semana':'uint8',\n",
    "         'Canal_ID':'uint8',\n",
    "         'Agencia_ID':'uint16',\n",
    "         'Ruta_SAK':'uint16',\n",
    "         'Dev_uni_proxima':'uint16',\n",
    "         'Cliente_ID':'uint32',\n",
    "         'Producto_ID':'uint16',\n",
    "         'Venta_uni_hoy':'uint32',\n",
    "         'Demanda_uni_equil':'uint16',\n",
    "         'Venta_hoy':'float32',\n",
    "         'Dev_proxima':'float32'}\n",
    "\n",
    "# Semana 3 inteira\n",
    "df = pd.read_csv('train.csv', dtype=dtype, nrows=500000)\n",
    "\n",
    "#df = pd.read_csv('train.csv', dtype=dtype, nrows=100000)\n",
    "\n",
    "df.drop('Semana', axis=1, inplace=True)"
   ]
  },
  {
   "cell_type": "code",
   "execution_count": 4,
   "metadata": {},
   "outputs": [
    {
     "data": {
      "text/plain": [
       "Agencia_ID            -0.377631\n",
       "Canal_ID               7.873220\n",
       "Ruta_SAK               2.404105\n",
       "Cliente_ID             1.646671\n",
       "Producto_ID            0.793070\n",
       "Venta_uni_hoy         26.227233\n",
       "Venta_hoy             27.093251\n",
       "Dev_uni_proxima      241.061320\n",
       "Dev_proxima          123.772454\n",
       "Demanda_uni_equil     26.656566\n",
       "dtype: float64"
      ]
     },
     "execution_count": 4,
     "metadata": {},
     "output_type": "execute_result"
    }
   ],
   "source": [
    "df.skew()"
   ]
  },
  {
   "cell_type": "markdown",
   "metadata": {},
   "source": [
    "**Distribuição dos pedidos**"
   ]
  },
  {
   "cell_type": "code",
   "execution_count": 6,
   "metadata": {
    "scrolled": true
   },
   "outputs": [
    {
     "data": {
      "image/png": "[encoded data removed]",
      "text/plain": [
       "<Figure size 576x396 with 1 Axes>"
      ]
     },
     "metadata": {},
     "output_type": "display_data"
    }
   ],
   "source": [
    "plt.hist(df.Demanda_uni_equil, bins=50)\n",
    "plt.show()"
   ]
  },
  {
   "cell_type": "markdown",
   "metadata": {},
   "source": [
    "Parece que há outliers na distribuição. Limitando o range:"
   ]
  },
  {
   "cell_type": "code",
   "execution_count": 40,
   "metadata": {},
   "outputs": [
    {
     "data": {
      "image/png": "[encoded data removed]",
      "text/plain": [
       "<Figure size 576x396 with 1 Axes>"
      ]
     },
     "metadata": {},
     "output_type": "display_data"
    }
   ],
   "source": [
    "plt.hist(df.Demanda_uni_equil, bins=50, range=(0,50))\n",
    "plt.show()"
   ]
  },
  {
   "cell_type": "code",
   "execution_count": 47,
   "metadata": {},
   "outputs": [
    {
     "data": {
      "text/plain": [
       "0.990666"
      ]
     },
     "execution_count": 47,
     "metadata": {},
     "output_type": "execute_result"
    }
   ],
   "source": [
    "df[df.Demanda_uni_equil < 50].Demanda_uni_equil.count()/df.Demanda_uni_equil.count()"
   ]
  },
  {
   "cell_type": "markdown",
   "metadata": {},
   "source": [
    "Mais de 99% dos dados estão agrupados em até 50 pedidos."
   ]
  },
  {
   "cell_type": "code",
   "execution_count": 63,
   "metadata": {},
   "outputs": [],
   "source": [
    "df2 = pd.read_csv('train.csv', dtype=dtype).sample(1000000)\n",
    "df2 = df2[df2.Demanda_uni_equil < 15]"
   ]
  },
  {
   "cell_type": "code",
   "execution_count": 75,
   "metadata": {},
   "outputs": [
    {
     "data": {
      "image/png": "[encoded data removed]",
      "text/plain": [
       "<Figure size 576x396 with 1 Axes>"
      ]
     },
     "metadata": {},
     "output_type": "display_data"
    }
   ],
   "source": [
    "plt.hist2d(df2.Semana, df2.Demanda_uni_equil, bins=[7, 15], cmap='viridis')\n",
    "plt.show()"
   ]
  },
  {
   "cell_type": "markdown",
   "metadata": {},
   "source": [
    "Tirando a semana 3, a quantidade de pedidos parece ter ficado estagnada durante as semanas."
   ]
  }
 ],
 "metadata": {
  "kernelspec": {
   "display_name": "Python 3",
   "language": "python",
   "name": "python3"
  },
  "language_info": {
   "codemirror_mode": {
    "name": "ipython",
    "version": 3
   },
   "file_extension": ".py",
   "mimetype": "text/x-python",
   "name": "python",
   "nbconvert_exporter": "python",
   "pygments_lexer": "ipython3",
   "version": "3.6.5"
  }
 },
 "nbformat": 4,
 "nbformat_minor": 2
}
