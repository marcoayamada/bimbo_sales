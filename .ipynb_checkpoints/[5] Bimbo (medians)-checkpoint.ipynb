{
 "cells": [
  {
   "cell_type": "code",
   "execution_count": 8,
   "metadata": {},
   "outputs": [],
   "source": [
    "import pandas as pd\n",
    "import numpy as np\n",
    "from sklearn.metrics import mean_squared_log_error"
   ]
  },
  {
   "cell_type": "code",
   "execution_count": 2,
   "metadata": {},
   "outputs": [],
   "source": [
    "\"\"\"\n",
    "Recebe uma lista para treino e outra para teste.\n",
    "\"\"\"\n",
    "def carrega_dados(treinos, testes):\n",
    "    dtype = {'Semana':'category',\n",
    "             'Canal_ID':'uint8',\n",
    "             'Agencia_ID':'uint16',\n",
    "             'Ruta_SAK':'uint16',\n",
    "             'Dev_uni_proxima':'uint16',\n",
    "             'Cliente_ID':'uint32',\n",
    "             'Producto_ID':'uint16',\n",
    "             'Venta_uni_hoy':'uint32',\n",
    "             'Demanda_uni_equil':'uint16',\n",
    "             'Venta_hoy':'float32',\n",
    "             'Dev_proxima':'float32'}\n",
    "\n",
    "    usecols=['Cliente_ID', 'Producto_ID', 'Demanda_uni_equil']\n",
    "\n",
    "    dfs_treino = []\n",
    "    for s_treino in treinos:\n",
    "        dfs_treino.append(pd.read_csv('train_{0}.csv'.format(s_treino), dtype=dtype, usecols=usecols))\n",
    "        print('[treino] carregado para semana {0}'.format(s_treino))\n",
    "    \n",
    "    dfs_teste = []\n",
    "    for s_teste in testes:\n",
    "        dfs_teste.append(pd.read_csv('train_{0}.csv'.format(s_teste), dtype=dtype, usecols=usecols))\n",
    "        print('[teste] carregado para semana {0}'.format(s_teste))\n",
    "\n",
    "\n",
    "    return pd.concat(dfs_treino), pd.concat(dfs_teste)"
   ]
  },
  {
   "cell_type": "code",
   "execution_count": 3,
   "metadata": {},
   "outputs": [
    {
     "name": "stdout",
     "output_type": "stream",
     "text": [
      "[treino] carregado para semana 3\n",
      "[treino] carregado para semana 4\n",
      "[treino] carregado para semana 5\n",
      "[treino] carregado para semana 6\n",
      "[treino] carregado para semana 7\n",
      "[teste] carregado para semana 8\n"
     ]
    }
   ],
   "source": [
    "df_treino, X_test = carrega_dados([3, 4, 5, 6, 7], [8])\n",
    "\n",
    "y_test = X_test.Demanda_uni_equil\n",
    "X_test.drop('Demanda_uni_equil', axis=1, inplace=True)"
   ]
  },
  {
   "cell_type": "code",
   "execution_count": 4,
   "metadata": {},
   "outputs": [],
   "source": [
    "prod_cli_median = df_treino.groupby(['Producto_ID','Cliente_ID']).median().to_dict()['Demanda_uni_equil'] # k: (prod, cli) v: median\n",
    "prod_median = df_treino.groupby('Producto_ID').median().to_dict()['Demanda_uni_equil'] # k: producto, v: median\n",
    "global_median = df_treino.Demanda_uni_equil.median()"
   ]
  },
  {
   "cell_type": "code",
   "execution_count": 5,
   "metadata": {},
   "outputs": [],
   "source": [
    "count={1:0, 2:0, 3:0}\n",
    "\n",
    "def mescla(x):\n",
    "    count[1]+=1\n",
    "    demand = prod_cli_median.get(tuple(x))\n",
    "    if demand is None:\n",
    "        count[2] +=1\n",
    "        demand = prod_median.get(x.Cliente_ID)    \n",
    "        if demand is None:\n",
    "            count[3]+=1\n",
    "            demand = global_median\n",
    "    return demand"
   ]
  },
  {
   "cell_type": "markdown",
   "metadata": {},
   "source": [
    "Previsão com treino para as semanas *3, 4, 5, 7*"
   ]
  },
  {
   "cell_type": "code",
   "execution_count": 14,
   "metadata": {
    "scrolled": true
   },
   "outputs": [
    {
     "name": "stdout",
     "output_type": "stream",
     "text": [
      "{1: 1, 2: 1, 3: 1}\n",
      "Wall time: 20min 13s\n"
     ]
    }
   ],
   "source": [
    "%%time\n",
    "\n",
    "demanda_pred = X_test.apply(lambda x: mescla(x), axis=1)\n",
    "print(count)"
   ]
  },
  {
   "cell_type": "code",
   "execution_count": 16,
   "metadata": {},
   "outputs": [
    {
     "data": {
      "text/plain": [
       "1.623779478508748"
      ]
     },
     "execution_count": 16,
     "metadata": {},
     "output_type": "execute_result"
    }
   ],
   "source": [
    "np.sqrt(mean_squared_log_error(y_test, demanda_pred))"
   ]
  },
  {
   "cell_type": "markdown",
   "metadata": {},
   "source": [
    "Previsão para as semanas *3, 4, 5, 6, 7*"
   ]
  },
  {
   "cell_type": "code",
   "execution_count": 6,
   "metadata": {},
   "outputs": [
    {
     "name": "stdout",
     "output_type": "stream",
     "text": [
      "{1: 10406868, 2: 10406868, 3: 9612039}\n",
      "Wall time: 22min 18s\n"
     ]
    }
   ],
   "source": [
    "%%time\n",
    "\n",
    "demanda_pred = X_test.apply(lambda x: mescla(x), axis=1)\n",
    "print(count)"
   ]
  },
  {
   "cell_type": "code",
   "execution_count": 9,
   "metadata": {},
   "outputs": [
    {
     "data": {
      "text/plain": [
       "1.6222150449810002"
      ]
     },
     "execution_count": 9,
     "metadata": {},
     "output_type": "execute_result"
    }
   ],
   "source": [
    "np.sqrt(mean_squared_log_error(y_test, demanda_pred))"
   ]
  },
  {
   "cell_type": "markdown",
   "metadata": {},
   "source": [
    "_________"
   ]
  }
 ],
 "metadata": {
  "kernelspec": {
   "display_name": "Python 3",
   "language": "python",
   "name": "python3"
  },
  "language_info": {
   "codemirror_mode": {
    "name": "ipython",
    "version": 3
   },
   "file_extension": ".py",
   "mimetype": "text/x-python",
   "name": "python",
   "nbconvert_exporter": "python",
   "pygments_lexer": "ipython3",
   "version": "3.6.5"
  }
 },
 "nbformat": 4,
 "nbformat_minor": 2
}
