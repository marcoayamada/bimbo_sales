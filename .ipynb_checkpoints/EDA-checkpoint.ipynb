{
 "cells": [
  {
   "cell_type": "markdown",
   "metadata": {},
   "source": [
    "# Simple EDA\n",
    "\n",
    "- [Investigating features](#Investigating-features)\n",
    "- [Discover unique values for categorical features](#Discover-unique-values-for-categorical-features)\n",
    "- [Correlation of numerical features](#Correlation-of-numerical-features)\n",
    "- [*Demanda* distribution](#Demanda-distribution)\n",
    "    - [Looks like there are outliers in distribution](#Looks-like-there-are-outliers-in-distribution.-Limiting-the-range:)\n",
    "- [Distribution along weeks](#Distribution-along-weeks)"
   ]
  },
  {
   "cell_type": "code",
   "execution_count": 1,
   "metadata": {},
   "outputs": [],
   "source": [
    "import pandas as pd\n",
    "import numpy as np\n",
    "import matplotlib.pyplot as plt\n",
    "import seaborn as sns"
   ]
  },
  {
   "cell_type": "code",
   "execution_count": 2,
   "metadata": {},
   "outputs": [
    {
     "data": {
      "text/plain": [
       "<Figure size 1080x360 with 0 Axes>"
      ]
     },
     "metadata": {},
     "output_type": "display_data"
    }
   ],
   "source": [
    "sns.set(rc={'figure.figsize':(15,5)})\n",
    "\n",
    "plt.figure(figsize=(15,5))\n",
    "plt.style.use('seaborn')"
   ]
  },
  {
   "cell_type": "code",
   "execution_count": 3,
   "metadata": {},
   "outputs": [],
   "source": [
    "dtype = {'Semana':'uint8',\n",
    "         'Canal_ID':'uint8',\n",
    "         'Agencia_ID':'uint16',\n",
    "         'Ruta_SAK':'uint16',\n",
    "         'Dev_uni_proxima':'uint16',\n",
    "         'Cliente_ID':'uint32',\n",
    "         'Producto_ID':'uint16',\n",
    "         'Venta_uni_hoy':'uint32',\n",
    "         'Demanda_uni_equil':'uint16',\n",
    "         'Venta_hoy':'float32',\n",
    "         'Dev_proxima':'float32'}\n",
    "\n",
    "# Semana 3 inteira\n",
    "df = pd.read_csv('train.csv', dtype=dtype, nrows=500000)\n",
    "\n",
    "df.drop('Semana', axis=1, inplace=True)"
   ]
  },
  {
   "cell_type": "markdown",
   "metadata": {},
   "source": [
    "### Investigating features"
   ]
  },
  {
   "cell_type": "code",
   "execution_count": 56,
   "metadata": {},
   "outputs": [
    {
     "name": "stdout",
     "output_type": "stream",
     "text": [
      "|Agencia_ID| |Min:1110 -- Max:1120 -- Count:10| |Type:uint16|\n",
      "|Canal_ID| |Min:1 -- Max:11 -- Count:6| |Type:uint8|\n",
      "|Ruta_SAK| |Min:1 -- Max:4501 -- Count:495| |Type:uint16|\n",
      "|Cliente_ID| |Min:3967 -- Max:9747854 -- Count:27066| |Type:uint32|\n",
      "|Producto_ID| |Min:72 -- Max:49994 -- Count:494| |Type:uint16|\n",
      "|Venta_uni_hoy| |Min:0 -- Max:2000 -- Count:446| |Type:uint32|\n",
      "|Venta_hoy| |Min:0.0 -- Max:21736.560546875 -- Count:5654| |Type:float32|\n",
      "|Dev_uni_proxima| |Min:0 -- Max:1008 -- Count:91| |Type:uint16|\n",
      "|Dev_proxima| |Min:0.0 -- Max:9426.0 -- Count:1653| |Type:float32|\n",
      "|Demanda_uni_equil| |Min:0 -- Max:2000 -- Count:468| |Type:uint16|\n"
     ]
    }
   ],
   "source": [
    "\"\"\"\n",
    "Max, min, count and type of features\n",
    "\"\"\"\n",
    "for col in df.columns:\n",
    "    print('|{0}| |Min:{1} -- Max:{2} -- Count:{3}| |Type:{4}|'\n",
    "          .format(col, df[col].min(), df[col].max(), len(df[col].unique()), str(df[col][0].dtype)))"
   ]
  },
  {
   "cell_type": "markdown",
   "metadata": {},
   "source": [
    "### Discover unique values for categorical features"
   ]
  },
  {
   "cell_type": "code",
   "execution_count": 57,
   "metadata": {},
   "outputs": [
    {
     "name": "stdout",
     "output_type": "stream",
     "text": [
      "Col:Agencia_ID -- Uniq: 10\n",
      "Col:Canal_ID -- Uniq: 6\n",
      "Col:Ruta_SAK -- Uniq: 495\n",
      "Col:Cliente_ID -- Uniq: 27066\n",
      "Col:Producto_ID -- Uniq: 494\n"
     ]
    }
   ],
   "source": [
    "df_cat = df[['Agencia_ID','Canal_ID','Ruta_SAK','Cliente_ID','Producto_ID']]\n",
    "\n",
    "for col in df_cat:\n",
    "    print('Col:{0} -- Uniq: {1}'.format(col, len(df[col].unique())))"
   ]
  },
  {
   "cell_type": "markdown",
   "metadata": {},
   "source": [
    "This values are a sample of population"
   ]
  },
  {
   "cell_type": "markdown",
   "metadata": {},
   "source": [
    "### Exists na values in this sample?"
   ]
  },
  {
   "cell_type": "code",
   "execution_count": 59,
   "metadata": {},
   "outputs": [
    {
     "data": {
      "text/plain": [
       "Agencia_ID           0\n",
       "Canal_ID             0\n",
       "Ruta_SAK             0\n",
       "Cliente_ID           0\n",
       "Producto_ID          0\n",
       "Venta_uni_hoy        0\n",
       "Venta_hoy            0\n",
       "Dev_uni_proxima      0\n",
       "Dev_proxima          0\n",
       "Demanda_uni_equil    0\n",
       "dtype: int64"
      ]
     },
     "execution_count": 59,
     "metadata": {},
     "output_type": "execute_result"
    }
   ],
   "source": [
    "df.isna().sum()"
   ]
  },
  {
   "cell_type": "code",
   "execution_count": 53,
   "metadata": {},
   "outputs": [
    {
     "data": {
      "text/html": [
       "<div>\n",
       "<style scoped>\n",
       "    .dataframe tbody tr th:only-of-type {\n",
       "        vertical-align: middle;\n",
       "    }\n",
       "\n",
       "    .dataframe tbody tr th {\n",
       "        vertical-align: top;\n",
       "    }\n",
       "\n",
       "    .dataframe thead th {\n",
       "        text-align: right;\n",
       "    }\n",
       "</style>\n",
       "<table border=\"1\" class=\"dataframe\">\n",
       "  <thead>\n",
       "    <tr style=\"text-align: right;\">\n",
       "      <th></th>\n",
       "      <th>Agencia_ID</th>\n",
       "      <th>Canal_ID</th>\n",
       "      <th>Ruta_SAK</th>\n",
       "      <th>Cliente_ID</th>\n",
       "      <th>Producto_ID</th>\n",
       "      <th>Venta_uni_hoy</th>\n",
       "      <th>Venta_hoy</th>\n",
       "      <th>Dev_uni_proxima</th>\n",
       "      <th>Dev_proxima</th>\n",
       "      <th>Demanda_uni_equil</th>\n",
       "    </tr>\n",
       "  </thead>\n",
       "  <tbody>\n",
       "    <tr>\n",
       "      <th>count</th>\n",
       "      <td>500000.000000</td>\n",
       "      <td>500000.000000</td>\n",
       "      <td>500000.000000</td>\n",
       "      <td>5.000000e+05</td>\n",
       "      <td>500000.000000</td>\n",
       "      <td>500000.000000</td>\n",
       "      <td>500000.000000</td>\n",
       "      <td>500000.000000</td>\n",
       "      <td>500000.000000</td>\n",
       "      <td>500000.000000</td>\n",
       "    </tr>\n",
       "    <tr>\n",
       "      <th>mean</th>\n",
       "      <td>1115.814010</td>\n",
       "      <td>1.118138</td>\n",
       "      <td>1590.864712</td>\n",
       "      <td>1.198001e+06</td>\n",
       "      <td>13717.625918</td>\n",
       "      <td>6.961222</td>\n",
       "      <td>73.172714</td>\n",
       "      <td>0.113388</td>\n",
       "      <td>1.452218</td>\n",
       "      <td>6.877256</td>\n",
       "    </tr>\n",
       "    <tr>\n",
       "      <th>std</th>\n",
       "      <td>3.127955</td>\n",
       "      <td>0.823334</td>\n",
       "      <td>801.433471</td>\n",
       "      <td>1.462295e+06</td>\n",
       "      <td>17232.601091</td>\n",
       "      <td>17.450644</td>\n",
       "      <td>276.414093</td>\n",
       "      <td>2.367468</td>\n",
       "      <td>26.438610</td>\n",
       "      <td>17.238430</td>\n",
       "    </tr>\n",
       "    <tr>\n",
       "      <th>min</th>\n",
       "      <td>1110.000000</td>\n",
       "      <td>1.000000</td>\n",
       "      <td>1.000000</td>\n",
       "      <td>3.967000e+03</td>\n",
       "      <td>72.000000</td>\n",
       "      <td>0.000000</td>\n",
       "      <td>0.000000</td>\n",
       "      <td>0.000000</td>\n",
       "      <td>0.000000</td>\n",
       "      <td>0.000000</td>\n",
       "    </tr>\n",
       "    <tr>\n",
       "      <th>25%</th>\n",
       "      <td>1112.000000</td>\n",
       "      <td>1.000000</td>\n",
       "      <td>1109.000000</td>\n",
       "      <td>1.098650e+05</td>\n",
       "      <td>1216.000000</td>\n",
       "      <td>2.000000</td>\n",
       "      <td>19.660000</td>\n",
       "      <td>0.000000</td>\n",
       "      <td>0.000000</td>\n",
       "      <td>2.000000</td>\n",
       "    </tr>\n",
       "    <tr>\n",
       "      <th>50%</th>\n",
       "      <td>1117.000000</td>\n",
       "      <td>1.000000</td>\n",
       "      <td>1447.000000</td>\n",
       "      <td>5.137590e+05</td>\n",
       "      <td>1284.000000</td>\n",
       "      <td>4.000000</td>\n",
       "      <td>36.320000</td>\n",
       "      <td>0.000000</td>\n",
       "      <td>0.000000</td>\n",
       "      <td>4.000000</td>\n",
       "    </tr>\n",
       "    <tr>\n",
       "      <th>75%</th>\n",
       "      <td>1118.000000</td>\n",
       "      <td>1.000000</td>\n",
       "      <td>1606.000000</td>\n",
       "      <td>1.793000e+06</td>\n",
       "      <td>32322.000000</td>\n",
       "      <td>7.000000</td>\n",
       "      <td>67.040001</td>\n",
       "      <td>0.000000</td>\n",
       "      <td>0.000000</td>\n",
       "      <td>7.000000</td>\n",
       "    </tr>\n",
       "    <tr>\n",
       "      <th>max</th>\n",
       "      <td>1120.000000</td>\n",
       "      <td>11.000000</td>\n",
       "      <td>4501.000000</td>\n",
       "      <td>9.747854e+06</td>\n",
       "      <td>49994.000000</td>\n",
       "      <td>2000.000000</td>\n",
       "      <td>21736.560547</td>\n",
       "      <td>1008.000000</td>\n",
       "      <td>9426.000000</td>\n",
       "      <td>2000.000000</td>\n",
       "    </tr>\n",
       "  </tbody>\n",
       "</table>\n",
       "</div>"
      ],
      "text/plain": [
       "          Agencia_ID       Canal_ID       Ruta_SAK    Cliente_ID  \\\n",
       "count  500000.000000  500000.000000  500000.000000  5.000000e+05   \n",
       "mean     1115.814010       1.118138    1590.864712  1.198001e+06   \n",
       "std         3.127955       0.823334     801.433471  1.462295e+06   \n",
       "min      1110.000000       1.000000       1.000000  3.967000e+03   \n",
       "25%      1112.000000       1.000000    1109.000000  1.098650e+05   \n",
       "50%      1117.000000       1.000000    1447.000000  5.137590e+05   \n",
       "75%      1118.000000       1.000000    1606.000000  1.793000e+06   \n",
       "max      1120.000000      11.000000    4501.000000  9.747854e+06   \n",
       "\n",
       "         Producto_ID  Venta_uni_hoy      Venta_hoy  Dev_uni_proxima  \\\n",
       "count  500000.000000  500000.000000  500000.000000    500000.000000   \n",
       "mean    13717.625918       6.961222      73.172714         0.113388   \n",
       "std     17232.601091      17.450644     276.414093         2.367468   \n",
       "min        72.000000       0.000000       0.000000         0.000000   \n",
       "25%      1216.000000       2.000000      19.660000         0.000000   \n",
       "50%      1284.000000       4.000000      36.320000         0.000000   \n",
       "75%     32322.000000       7.000000      67.040001         0.000000   \n",
       "max     49994.000000    2000.000000   21736.560547      1008.000000   \n",
       "\n",
       "         Dev_proxima  Demanda_uni_equil  \n",
       "count  500000.000000      500000.000000  \n",
       "mean        1.452218           6.877256  \n",
       "std        26.438610          17.238430  \n",
       "min         0.000000           0.000000  \n",
       "25%         0.000000           2.000000  \n",
       "50%         0.000000           4.000000  \n",
       "75%         0.000000           7.000000  \n",
       "max      9426.000000        2000.000000  "
      ]
     },
     "execution_count": 53,
     "metadata": {},
     "output_type": "execute_result"
    }
   ],
   "source": [
    "df.describe()"
   ]
  },
  {
   "cell_type": "markdown",
   "metadata": {},
   "source": [
    "## Correlation of numerical features"
   ]
  },
  {
   "cell_type": "code",
   "execution_count": 30,
   "metadata": {},
   "outputs": [
    {
     "data": {
      "image/png": "[encoded data removed]",
      "text/plain": [
       "<Figure size 576x396 with 2 Axes>"
      ]
     },
     "metadata": {},
     "output_type": "display_data"
    }
   ],
   "source": [
    "df_num = df[['Venta_uni_hoy', 'Venta_hoy', 'Dev_uni_proxima', 'Dev_proxima', 'Demanda_uni_equil']]\n",
    "ax = sns.heatmap(df_num.corr(), cmap='viridis')\n",
    "\n",
    "plt.show()"
   ]
  },
  {
   "cell_type": "markdown",
   "metadata": {},
   "source": [
    "## *Demanda* distribution"
   ]
  },
  {
   "cell_type": "code",
   "execution_count": 6,
   "metadata": {
    "scrolled": true
   },
   "outputs": [
    {
     "data": {
      "image/png": "[encoded data removed]",
      "text/plain": [
       "<Figure size 576x396 with 1 Axes>"
      ]
     },
     "metadata": {},
     "output_type": "display_data"
    }
   ],
   "source": [
    "plt.hist(df.Demanda_uni_equil, bins=50)\n",
    "plt.show()"
   ]
  },
  {
   "cell_type": "markdown",
   "metadata": {},
   "source": [
    "#### Looks like there are outliers in distribution. Limiting the range:"
   ]
  },
  {
   "cell_type": "code",
   "execution_count": 40,
   "metadata": {},
   "outputs": [
    {
     "data": {
      "image/png": "[encoded data removed]",
      "text/plain": [
       "<Figure size 576x396 with 1 Axes>"
      ]
     },
     "metadata": {},
     "output_type": "display_data"
    }
   ],
   "source": [
    "plt.hist(df.Demanda_uni_equil, bins=50, range=(0,50))\n",
    "plt.show()"
   ]
  },
  {
   "cell_type": "code",
   "execution_count": 47,
   "metadata": {},
   "outputs": [
    {
     "data": {
      "text/plain": [
       "0.990666"
      ]
     },
     "execution_count": 47,
     "metadata": {},
     "output_type": "execute_result"
    }
   ],
   "source": [
    "df[df.Demanda_uni_equil < 50].Demanda_uni_equil.count()/df.Demanda_uni_equil.count()"
   ]
  },
  {
   "cell_type": "markdown",
   "metadata": {},
   "source": [
    "More than 99% of data is grouped until 50 orders."
   ]
  },
  {
   "cell_type": "markdown",
   "metadata": {},
   "source": [
    "## Distribution along weeks"
   ]
  },
  {
   "cell_type": "code",
   "execution_count": 63,
   "metadata": {},
   "outputs": [],
   "source": [
    "df2 = pd.read_csv('train.csv', dtype=dtype).sample(1000000)\n",
    "df2 = df2[df2.Demanda_uni_equil < 15]"
   ]
  },
  {
   "cell_type": "code",
   "execution_count": 75,
   "metadata": {},
   "outputs": [
    {
     "data": {
      "image/png": "[encoded data removed]",
      "text/plain": [
       "<Figure size 576x396 with 1 Axes>"
      ]
     },
     "metadata": {},
     "output_type": "display_data"
    }
   ],
   "source": [
    "plt.hist2d(df2.Semana, df2.Demanda_uni_equil, bins=[7, 15], cmap='viridis')\n",
    "plt.show()"
   ]
  },
  {
   "cell_type": "markdown",
   "metadata": {},
   "source": [
    "With the exception of week 3, the number of requests seems to have stagnated over the weeks."
   ]
  }
 ],
 "metadata": {
  "kernelspec": {
   "display_name": "Python 3",
   "language": "python",
   "name": "python3"
  },
  "language_info": {
   "codemirror_mode": {
    "name": "ipython",
    "version": 3
   },
   "file_extension": ".py",
   "mimetype": "text/x-python",
   "name": "python",
   "nbconvert_exporter": "python",
   "pygments_lexer": "ipython3",
   "version": "3.6.5"
  }
 },
 "nbformat": 4,
 "nbformat_minor": 2
}
