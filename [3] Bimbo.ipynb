{
 "cells": [
  {
   "cell_type": "code",
   "execution_count": 1,
   "metadata": {},
   "outputs": [],
   "source": [
    "import pandas as pd\n",
    "import numpy as np\n",
    "import datetime\n",
    "import gc\n",
    "#import matplotlib.pyplot as plt\n",
    "#import seaborn as sns"
   ]
  },
  {
   "cell_type": "code",
   "execution_count": 2,
   "metadata": {},
   "outputs": [],
   "source": [
    "#sns.set(rc={'figure.figsize':(15,5)});\n",
    "#plt.figure(figsize=(15,5));"
   ]
  },
  {
   "cell_type": "code",
   "execution_count": 3,
   "metadata": {},
   "outputs": [
    {
     "name": "stdout",
     "output_type": "stream",
     "text": [
      "Wall time: 0 ns\n"
     ]
    }
   ],
   "source": [
    "%%time\n",
    "\n",
    "usecols=['Semana', 'Cliente_ID', 'Producto_ID', 'Demanda_uni_equil']\n",
    "\n",
    "dtype = {'Semana':'uint8',\n",
    "         'Canal_ID':'uint8',\n",
    "         'Agencia_ID':'uint16',\n",
    "         'Ruta_SAK':'uint16',\n",
    "         'Dev_uni_proxima':'uint16',\n",
    "         'Cliente_ID':'category',\n",
    "         'Producto_ID':'category',\n",
    "         'Venta_uni_hoy':'uint32',\n",
    "         'Demanda_uni_equil':'uint16',\n",
    "         'Venta_hoy':'float32',\n",
    "         'Dev_proxima':'float32'}\n",
    "\n",
    "#df = pd.read_csv('train.csv', dtype=dtype, usecols=usecols)"
   ]
  },
  {
   "cell_type": "code",
   "execution_count": 9,
   "metadata": {},
   "outputs": [],
   "source": [
    "smp = pd.read_csv('sample.csv', dtype=dtype, usecols=usecols)"
   ]
  },
  {
   "cell_type": "code",
   "execution_count": 12,
   "metadata": {
    "scrolled": true
   },
   "outputs": [
    {
     "name": "stdout",
     "output_type": "stream",
     "text": [
      "Semana: 3\n",
      "Semana: 4\n",
      "Semana: 5\n",
      "Semana: 6\n",
      "Semana: 7\n",
      "Semana: 8\n",
      "Semana: 9\n"
     ]
    }
   ],
   "source": [
    "smp = quebra_cols(smp)"
   ]
  },
  {
   "cell_type": "code",
   "execution_count": 14,
   "metadata": {
    "scrolled": true
   },
   "outputs": [
    {
     "data": {
      "text/html": [
       "<div>\n",
       "<style scoped>\n",
       "    .dataframe tbody tr th:only-of-type {\n",
       "        vertical-align: middle;\n",
       "    }\n",
       "\n",
       "    .dataframe tbody tr th {\n",
       "        vertical-align: top;\n",
       "    }\n",
       "\n",
       "    .dataframe thead th {\n",
       "        text-align: right;\n",
       "    }\n",
       "</style>\n",
       "<table border=\"1\" class=\"dataframe\">\n",
       "  <thead>\n",
       "    <tr style=\"text-align: right;\">\n",
       "      <th></th>\n",
       "      <th></th>\n",
       "      <th>Demanda_uni_equil_3</th>\n",
       "      <th>Demanda_uni_equil_4</th>\n",
       "      <th>Demanda_uni_equil_5</th>\n",
       "      <th>Demanda_uni_equil_6</th>\n",
       "      <th>Demanda_uni_equil_7</th>\n",
       "      <th>Demanda_uni_equil_8</th>\n",
       "      <th>Demanda_uni_equil_9</th>\n",
       "    </tr>\n",
       "    <tr>\n",
       "      <th>Cliente_ID</th>\n",
       "      <th>Producto_ID</th>\n",
       "      <th></th>\n",
       "      <th></th>\n",
       "      <th></th>\n",
       "      <th></th>\n",
       "      <th></th>\n",
       "      <th></th>\n",
       "      <th></th>\n",
       "    </tr>\n",
       "  </thead>\n",
       "  <tbody>\n",
       "    <tr>\n",
       "      <th>4490504</th>\n",
       "      <th>43033</th>\n",
       "      <td>NaN</td>\n",
       "      <td>NaN</td>\n",
       "      <td>NaN</td>\n",
       "      <td>NaN</td>\n",
       "      <td>NaN</td>\n",
       "      <td>3.0</td>\n",
       "      <td>NaN</td>\n",
       "    </tr>\n",
       "    <tr>\n",
       "      <th>471529</th>\n",
       "      <th>30572</th>\n",
       "      <td>NaN</td>\n",
       "      <td>1.0</td>\n",
       "      <td>NaN</td>\n",
       "      <td>NaN</td>\n",
       "      <td>NaN</td>\n",
       "      <td>NaN</td>\n",
       "      <td>NaN</td>\n",
       "    </tr>\n",
       "    <tr>\n",
       "      <th>1417658</th>\n",
       "      <th>1250</th>\n",
       "      <td>NaN</td>\n",
       "      <td>NaN</td>\n",
       "      <td>4.0</td>\n",
       "      <td>NaN</td>\n",
       "      <td>NaN</td>\n",
       "      <td>NaN</td>\n",
       "      <td>NaN</td>\n",
       "    </tr>\n",
       "    <tr>\n",
       "      <th>4443674</th>\n",
       "      <th>32322</th>\n",
       "      <td>NaN</td>\n",
       "      <td>NaN</td>\n",
       "      <td>NaN</td>\n",
       "      <td>3.0</td>\n",
       "      <td>NaN</td>\n",
       "      <td>NaN</td>\n",
       "      <td>NaN</td>\n",
       "    </tr>\n",
       "    <tr>\n",
       "      <th>4286269</th>\n",
       "      <th>1250</th>\n",
       "      <td>NaN</td>\n",
       "      <td>NaN</td>\n",
       "      <td>NaN</td>\n",
       "      <td>NaN</td>\n",
       "      <td>NaN</td>\n",
       "      <td>NaN</td>\n",
       "      <td>5.0</td>\n",
       "    </tr>\n",
       "  </tbody>\n",
       "</table>\n",
       "</div>"
      ],
      "text/plain": [
       "                        Demanda_uni_equil_3  Demanda_uni_equil_4  \\\n",
       "Cliente_ID Producto_ID                                             \n",
       "4490504    43033                        NaN                  NaN   \n",
       "471529     30572                        NaN                  1.0   \n",
       "1417658    1250                         NaN                  NaN   \n",
       "4443674    32322                        NaN                  NaN   \n",
       "4286269    1250                         NaN                  NaN   \n",
       "\n",
       "                        Demanda_uni_equil_5  Demanda_uni_equil_6  \\\n",
       "Cliente_ID Producto_ID                                             \n",
       "4490504    43033                        NaN                  NaN   \n",
       "471529     30572                        NaN                  NaN   \n",
       "1417658    1250                         4.0                  NaN   \n",
       "4443674    32322                        NaN                  3.0   \n",
       "4286269    1250                         NaN                  NaN   \n",
       "\n",
       "                        Demanda_uni_equil_7  Demanda_uni_equil_8  \\\n",
       "Cliente_ID Producto_ID                                             \n",
       "4490504    43033                        NaN                  3.0   \n",
       "471529     30572                        NaN                  NaN   \n",
       "1417658    1250                         NaN                  NaN   \n",
       "4443674    32322                        NaN                  NaN   \n",
       "4286269    1250                         NaN                  NaN   \n",
       "\n",
       "                        Demanda_uni_equil_9  \n",
       "Cliente_ID Producto_ID                       \n",
       "4490504    43033                        NaN  \n",
       "471529     30572                        NaN  \n",
       "1417658    1250                         NaN  \n",
       "4443674    32322                        NaN  \n",
       "4286269    1250                         5.0  "
      ]
     },
     "execution_count": 14,
     "metadata": {},
     "output_type": "execute_result"
    }
   ],
   "source": [
    "smp.head()"
   ]
  },
  {
   "cell_type": "markdown",
   "metadata": {},
   "source": [
    "#########################################################################################################"
   ]
  },
  {
   "cell_type": "code",
   "execution_count": 4,
   "metadata": {},
   "outputs": [],
   "source": [
    "# 3    11165207\n",
    "# 4    11009593\n",
    "# 5    10615397\n",
    "# 9    10408713\n",
    "# 8    10406868\n",
    "# 7    10382849\n",
    "# 6    10191837"
   ]
  },
  {
   "cell_type": "code",
   "execution_count": 5,
   "metadata": {},
   "outputs": [],
   "source": [
    "# Quebrando por semana\n",
    "\n",
    "# dct={3:(11165257, None), 4:(11165157, 11009643), \n",
    "#      5:(22174750, 10615447), 6:(32790147, 10408763),\n",
    "#      7:(53605728, 10406918), 8:(53605728, 10382899), 9:(63988577, 10191887)}\n",
    "# \n",
    "# for semana in range(3, 10):\n",
    "#     print(dct[semana])\n",
    "#     df = pd.read_csv('train.csv', dtype=dtype, usecols=usecols, header=0, skiprows=dct[semana][1], nrows=dct[semana][0], names=usecols)\n",
    "#     df[df.Semana==semana].to_csv('train_{0}.csv'.format(semana), index=False)\n",
    "# "
   ]
  },
  {
   "cell_type": "code",
   "execution_count": 10,
   "metadata": {},
   "outputs": [
    {
     "name": "stdout",
     "output_type": "stream",
     "text": [
      "Semana 3: 3    11165207\n",
      "Name: Semana, dtype: int64\n",
      "Semana 4: 4    11009593\n",
      "Name: Semana, dtype: int64\n",
      "Semana 5: 5    10615397\n",
      "Name: Semana, dtype: int64\n",
      "Semana 6: 6    10191837\n",
      "Name: Semana, dtype: int64\n",
      "Semana 7: 7    10382849\n",
      "Name: Semana, dtype: int64\n",
      "Semana 8: 8    10406868\n",
      "Name: Semana, dtype: int64\n",
      "Semana 9: 9    10408713\n",
      "Name: Semana, dtype: int64\n"
     ]
    }
   ],
   "source": [
    "# conferindo se a quebra deu certo\n",
    "\n",
    "# for semana in range(3, 10):\n",
    "#     print(pd.read_csv('train_{0}.csv'.format(semana), dtype=dtype, usecols=usecols).Semana.value_counts())\n",
    "#     gc.collect()"
   ]
  },
  {
   "cell_type": "code",
   "execution_count": 3,
   "metadata": {
    "scrolled": true
   },
   "outputs": [],
   "source": [
    "# quebrando colunas por semana e demanda\n",
    "def quebra_cols(smp):\n",
    "    smp_ = smp[['Cliente_ID', 'Producto_ID']].set_index(['Cliente_ID', 'Producto_ID'])\n",
    "\n",
    "    for semana in range(3,10):\n",
    "        smp_ = smp_.join(smp[smp.Semana==semana].set_index(['Cliente_ID', 'Producto_ID'])[['Demanda_uni_equil']],\n",
    "                         how='left',\n",
    "                         rsuffix='_'+str(semana))\n",
    "        print('Semana: {0}'.format(semana))\n",
    "        gc.collect()\n",
    "    smp_.rename(columns={'Demanda_uni_equil':'Demanda_uni_equil_3'}, inplace=True)\n",
    "    return smp_"
   ]
  },
  {
   "cell_type": "code",
   "execution_count": null,
   "metadata": {},
   "outputs": [
    {
     "name": "stdout",
     "output_type": "stream",
     "text": [
      "2018-09-01 16:29:12.776841\n",
      "2018-09-01 16:29:12.777842 (74180464, 0)\n"
     ]
    }
   ],
   "source": [
    "print(datetime.datetime.now())\n",
    "\n",
    "cps = pd.read_csv('cps.csv', index_col=['Cliente_ID', 'Producto_ID'], dtype=dtype)\n",
    "\n",
    "print(datetime.datetime.now(), cps.shape)\n",
    "\n",
    "for chunk in pd.read_csv('train_3.csv', dtype=dtype, usecols=['Demanda_uni_equil','Cliente_ID', 'Producto_ID'], chunksize=800, index_col=['Cliente_ID', 'Producto_ID']):\n",
    "    cps.join(chunk, how='left', rsuffix='_3')\n",
    "    gc.collect()\n",
    "    print('-------- {0} --------'.format(datetime.datetime.now()))"
   ]
  },
  {
   "cell_type": "code",
   "execution_count": null,
   "metadata": {},
   "outputs": [],
   "source": []
  }
 ],
 "metadata": {
  "kernelspec": {
   "display_name": "Python 3",
   "language": "python",
   "name": "python3"
  },
  "language_info": {
   "codemirror_mode": {
    "name": "ipython",
    "version": 3
   },
   "file_extension": ".py",
   "mimetype": "text/x-python",
   "name": "python",
   "nbconvert_exporter": "python",
   "pygments_lexer": "ipython3",
   "version": "3.6.5"
  }
 },
 "nbformat": 4,
 "nbformat_minor": 2
}
