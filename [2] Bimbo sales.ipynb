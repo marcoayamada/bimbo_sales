{
 "cells": [
  {
   "cell_type": "code",
   "execution_count": 1,
   "metadata": {},
   "outputs": [],
   "source": [
    "import pandas as pd\n",
    "import numpy as np"
   ]
  },
  {
   "cell_type": "code",
   "execution_count": 5,
   "metadata": {},
   "outputs": [
    {
     "name": "stdout",
     "output_type": "stream",
     "text": [
      "Wall time: 22 ms\n"
     ]
    }
   ],
   "source": [
    "%%time\n",
    "\n",
    "dtype = {'Semana':'uint8',\n",
    "         'Canal_ID':'uint8',\n",
    "         'Agencia_ID':'uint16',\n",
    "         'Ruta_SAK':'uint16',\n",
    "         'Dev_uni_proxima':'uint16',\n",
    "         'Cliente_ID':'uint32',\n",
    "         'Producto_ID':'uint16',\n",
    "         'Venta_uni_hoy':'uint32',\n",
    "         'Demanda_uni_equil':'uint16',\n",
    "         'Venta_hoy':'float32',\n",
    "         'Dev_proxima':'float32'}\n",
    "\n",
    "#df = pd.read_csv('train.csv', dtype=dtype)\n",
    "sample = pd.read_csv('train_3.csv', dtype=dtype, nrows=500)"
   ]
  },
  {
   "cell_type": "code",
   "execution_count": 18,
   "metadata": {},
   "outputs": [],
   "source": [
    "usecols=['Cliente_ID', 'Producto_ID', 'Venta_uni_hoy', 'Dev_uni_proxima', 'Demanda_uni_equil']\n",
    "df = pd.read_csv('train_3.csv', dtype=dtype, usecols=usecols)"
   ]
  },
  {
   "cell_type": "code",
   "execution_count": 22,
   "metadata": {},
   "outputs": [
    {
     "data": {
      "text/plain": [
       "Cliente_ID           0\n",
       "Producto_ID          0\n",
       "Venta_uni_hoy        0\n",
       "Dev_uni_proxima      0\n",
       "Demanda_uni_equil    0\n",
       "dtype: int64"
      ]
     },
     "execution_count": 22,
     "metadata": {},
     "output_type": "execute_result"
    }
   ],
   "source": [
    "df.isna().sum()"
   ]
  },
  {
   "cell_type": "code",
   "execution_count": 30,
   "metadata": {
    "scrolled": true
   },
   "outputs": [],
   "source": [
    "df.groupby(['Cliente_ID', 'Producto_ID']).mean().reset_index().to_csv('prods_3.csv', index=False)"
   ]
  }
 ],
 "metadata": {
  "kernelspec": {
   "display_name": "Python 3",
   "language": "python",
   "name": "python3"
  },
  "language_info": {
   "codemirror_mode": {
    "name": "ipython",
    "version": 3
   },
   "file_extension": ".py",
   "mimetype": "text/x-python",
   "name": "python",
   "nbconvert_exporter": "python",
   "pygments_lexer": "ipython3",
   "version": "3.6.5"
  }
 },
 "nbformat": 4,
 "nbformat_minor": 2
}
